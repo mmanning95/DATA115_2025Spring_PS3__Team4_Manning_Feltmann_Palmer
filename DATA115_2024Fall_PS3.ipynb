{
 "cells": [
  {
   "cell_type": "markdown",
   "metadata": {
    "tags": []
   },
   "source": [
    "<h2> DATA 115: Introduction to Data Analytics. Fall 2024 </h2>\n",
    "<h3> Problem Set 3 </h3>\n",
    "<h3> Team <i> 4 </i></h3>\n",
    "<h3><ul>\n",
    "    <li>Melvin Manning</li> \n",
    "    <li>Max Durben</li> \n",
    "    <li>Nathan Feltmann</li> \n",
    "    <li>Jack Palmer</li>\n",
    "    <i> (only those who contributed to the group work)</i> \n",
    "    <li>Melvin Manning</li>\n",
    "    <li>Jack Palmer </li>\n",
    "    <li>Nathan Feltman</li>\n",
    "    <li>Max Durben </li>\n",
    "    </h3>"
   ]
  },
  {
   "cell_type": "markdown",
   "metadata": {
    "jp-MarkdownHeadingCollapsed": true
   },
   "source": [
    "#### 1. In your own words, provide a definition or a short description for each of the following terms (and explain how they are different for the pairs of items):\n",
    "\n",
    "##### (a) Probability density function vs probability mass function.\n",
    "\n",
    "- **(i) PDF**  \n",
    "  Describes the probability density of a continuous random varible. Think the possible values of a persons height or weight between a certain goal. \n",
    "\n",
    "- **(ii) PMF**  \n",
    "  Describes the probability of a discrete random varible with a specific value. Think the probabilty of a coin toss. All probibilities must add to equal 1.\n",
    "\n",
    "- **(iii) Differences**\n",
    "  The difference is pdf is used for continuous data and pmf is used for discrete outcomes (probability for each value)\n",
    "\n",
    "##### (b) Total Sum of Squares vs Model Sum of Squares in the linear regression model.\n",
    "\n",
    "- **(i) Total Sum of Squares**  \n",
    "  The total variation in data. Its measured how far each value is from the mean.\n",
    "\n",
    "- **(ii) Model Sum of Squares**  \n",
    "  The part of total variation explained by a regression model. It measures how far those predictions are from the mean\n",
    "\n",
    "- **(iii) Differences**  \n",
    "  Total Sum of Squares is totoal variation depending on the varible while Model Sum of Squares is how much variation accounts for\n",
    "\n",
    "##### (c) Linear Regression vs Logistic Regression. Given an example of a dataset/variable that would be appropriate to analyze with a linear regression and another one that would be appropriate to analyze with a logistic regression.\n",
    "\n",
    "- **(i) Linear Regression**  \n",
    "  Used for predicting a contiuous number. Makes a line describing the chances with different predictors. An example would be predicting the price of a house by looking at square feet and bedroom count.\n",
    "\n",
    "- **(ii) Logistic Regression**  \n",
    "  Used for predicting binary outcomes. It basically predicts the probability of belonging to a category of two. An example would be finding out if a bank transaction is legit or not based on amount, time, and location.\n"
   ]
  },
  {
   "cell_type": "markdown",
   "metadata": {
    "jp-MarkdownHeadingCollapsed": true,
    "tags": []
   },
   "source": [
    "#### 2. Load the data in `Air_Quality` as a dataframe in Python. \n",
    "\n",
    "##### (a) Compute the mean and the standard deviation of the `PM_Concentration` variable.\n",
    "\n",
    "##### (b) Make a density histogram of the `PM_Concentration` variable and overlay a plot of the normal distribution with mean and standard deviation from part (a) on the same plot.\n",
    "\n",
    "##### (c) Is the normal distribution a good fit for this variable? Briefly explain"
   ]
  },
  {
   "cell_type": "code",
   "execution_count": null,
   "metadata": {},
   "outputs": [
    {
     "name": "stdout",
     "output_type": "stream",
     "text": [
      "Mean of PM_Concentration: 3.526239855725879\n",
      "Standard Deviation of PM_Concentration: 2.4239677210751838\n"
     ]
    },
    {
     "data": {
      "image/png": "[encoded data removed]",
      "text/plain": [
       "<Figure size 640x480 with 1 Axes>"
      ]
     },
     "metadata": {},
     "output_type": "display_data"
    }
   ],
   "source": [
    "import pandas as pd\n",
    "import matplotlib.pyplot as plt\n",
    "import numpy as np\n",
    "import math\n",
    "\n",
    "# Load the dataset\n",
    "df = pd.read_csv('Air_Quality.csv')\n",
    "\n",
    "#Mean and Standard Deviation of 'PM_Concentration'\n",
    "mean_val = df['PM_Concentration'].mean()\n",
    "std_val = df['PM_Concentration'].std()\n",
    "print(\"Mean of PM_Concentration:\", mean_val)\n",
    "print(\"Standard Deviation of PM_Concentration:\", std_val)\n",
    "\n",
    "# Plotting the histogram of 'PM_Concentration'\n",
    "pm = df['PM_Concentration']\n",
    "\n",
    "#Plot the histogram\n",
    "plt.hist(pm, bins=30, color='blue', alpha=0.6)\n",
    "\n",
    "#Create an array of x values from min to max\n",
    "x = np.linspace(pm.min(), pm.max(), 200)\n",
    "\n",
    "#Calculate the PDF using the mean and standard deviation (Used help from https://stackoverflow.com/questions/18172283/how-to-plot-a-normal-distribution-with-matplotlib)\n",
    "pdf = (1.0 / (std_val * math.sqrt(2 * math.pi))) * \\\n",
    "np.exp(-0.5 * ((x - mean_val) / std_val) ** 2)\n",
    "\n",
    "#Plot the PDF\n",
    "plt.plot(x, pdf, 'r--', linewidth=2, label='Normal PDF')\n",
    "\n",
    "#Add labels and title\n",
    "plt.xlabel('PM_Concentration')\n",
    "plt.ylabel('Density')\n",
    "plt.title('Histogram of PM_Concentration with Normal Overlay')\n",
    "plt.legend()\n",
    "plt.show()"
   ]
  },
  {
   "cell_type": "markdown",
   "metadata": {
    "jp-MarkdownHeadingCollapsed": true,
    "tags": []
   },
   "source": [
    "#### 3. Load the data in `education_income` as a dataframe in Python.\n",
    "\n",
    "##### (a) Make a scatterplot of the percentage of BS holders against the median HH income by state.\n",
    "\n",
    "##### (b) Based on this plot, do you think linear regression is appropriate to attempt? Briefly explain\n",
    "\n",
    "##### (c) Fit a simple linear model to this pair of columns and overlay the best fit line on the scatterplot from part (a).\n",
    "\n",
    "##### (d) Write the linear regression equation and report the value of the coefficient of determination.\n",
    "\n",
    "##### (e) Make a QQ plot of the residuals to check if they are normally distributed. What do you conclude? \n",
    "\n",
    "##### (f) Plot the residuals against the fitted values. Do you notice anything concerning?\n",
    "\n",
    "##### (g) Choose two other columns from the dataframe and repeat steps (a)-(f). Do you observe any differences in the main results for these new columns?"
   ]
  },
  {
   "cell_type": "markdown",
   "metadata": {},
   "source": [
    "#### 4. Load the data in `Advertising` as a dataframe in Python. \n",
    "\n",
    "##### (a) Each row of this data set represents a single media market and the `TV`, `newspaper`, and `radio` variables contain spending amount related to each media type while the `sales` variable is the number of units sold (in thousands) in that market. Make a scatterplot matrix of these variables. Based on this plot, do you think multiple linear regression is appropriate to attempt? Briefly explain.\n",
    "\n",
    "##### (b) Fit a multiple linear regression model using all three media variables as predictors with the sales column as the response variable.\n",
    "\n",
    "##### (c) Write the linear regression equation and report the value of the coefficient of determination.\n",
    "\n",
    "##### (d) How many sales would your model predict for a market that spent 200 on TV, 50 on radio, and 100 on newspaper?"
   ]
  },
  {
   "cell_type": "markdown",
   "metadata": {},
   "source": [
    "#### 5. Load the data in `defaults` as a dataframe in Python. \n",
    "\n",
    "##### (a) Fit a logistic regression model to this data with `default` as the response variable and `balance` as a predictor variable.\n",
    "\n",
    "##### (b) Compute the coefficients of the fitted model and write the corresponding equation for the log odds.\n",
    "\n",
    "##### (c) What percentage of the provided data does your model correctly classify?\n",
    "\n",
    "##### (d) Use your model to predict whether someone with a balance of 1950 is likely to default. What is the corresponding probability of this individual defaulting according to your regression model?"
   ]
  },
  {
   "cell_type": "code",
   "execution_count": null,
   "metadata": {},
   "outputs": [],
   "source": []
  }
 ],
 "metadata": {
  "kernelspec": {
   "display_name": "Python 3",
   "language": "python",
   "name": "python3"
  },
  "language_info": {
   "codemirror_mode": {
    "name": "ipython",
    "version": 3
   },
   "file_extension": ".py",
   "mimetype": "text/x-python",
   "name": "python",
   "nbconvert_exporter": "python",
   "pygments_lexer": "ipython3",
   "version": "3.12.6"
  }
 },
 "nbformat": 4,
 "nbformat_minor": 4
}
